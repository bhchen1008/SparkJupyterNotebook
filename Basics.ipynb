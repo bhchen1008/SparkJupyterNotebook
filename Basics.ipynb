{
 "cells": [
  {
   "cell_type": "code",
   "execution_count": 1,
   "metadata": {
    "collapsed": false
   },
   "outputs": [
    {
     "name": "stdout",
     "output_type": "stream",
     "text": [
      "Initializing Spark\n"
     ]
    }
   ],
   "source": [
    "from pyspark import SparkContext, SparkConf\n",
    "conf = SparkConf().setAppName(\"Basics\").setMaster(\"local[*]\")\n",
    "sc = SparkContext(conf=conf)\n",
    "print(\"Initializing Spark\")"
   ]
  },
  {
   "cell_type": "code",
   "execution_count": 2,
   "metadata": {
    "collapsed": false
   },
   "outputs": [
    {
     "name": "stdout",
     "output_type": "stream",
     "text": [
      "execution time:0.09894752502441406\n"
     ]
    }
   ],
   "source": [
    "lines = sc.textFile(\"/data/README.md\")\n",
    "lineLengths = lines.map(lambda s: len(s))\n",
    "totalLength = lineLengths.reduce(lambda a, b: a + b)\n",
    "import time\n",
    "sTime = time.time()\n",
    "a = lineLengths.collect()\n",
    "eTime = time.time()\n",
    "print(\"execution time:%s\" % (eTime-sTime))"
   ]
  },
  {
   "cell_type": "code",
   "execution_count": 3,
   "metadata": {
    "collapsed": false
   },
   "outputs": [
    {
     "name": "stdout",
     "output_type": "stream",
     "text": [
      "execution time:0.06834006309509277\n"
     ]
    }
   ],
   "source": [
    "lines = sc.textFile(\"/data/README.md\")\n",
    "lineLengths = lines.map(lambda s: len(s))\n",
    "\n",
    "lineLengths.persist()\n",
    "\n",
    "totalLength = lineLengths.reduce(lambda a, b: a + b)\n",
    "import time\n",
    "sTime = time.time()\n",
    "a = lineLengths.collect()\n",
    "eTime = time.time()\n",
    "print(\"execution time:%s\" % (eTime-sTime))"
   ]
  },
  {
   "cell_type": "code",
   "execution_count": 4,
   "metadata": {
    "collapsed": false
   },
   "outputs": [
    {
     "name": "stdout",
     "output_type": "stream",
     "text": [
      "execution time:0.10120272636413574\n",
      "persist function must be executed before action(reduce)\n"
     ]
    }
   ],
   "source": [
    "lines = sc.textFile(\"/data/README.md\")\n",
    "lineLengths = lines.map(lambda s: len(s))\n",
    "totalLength = lineLengths.reduce(lambda a, b: a + b)\n",
    "\n",
    "lineLengths.persist()\n",
    "\n",
    "import time\n",
    "sTime = time.time()\n",
    "a = lineLengths.collect()\n",
    "eTime = time.time()\n",
    "print(\"execution time:%s\" % (eTime-sTime))\n",
    "print(\"persist function must be executed before action(reduce)\")"
   ]
  }
 ],
 "metadata": {
  "kernelspec": {
   "display_name": "Python 3",
   "language": "python",
   "name": "python3"
  },
  "language_info": {
   "codemirror_mode": {
    "name": "ipython",
    "version": 3
   },
   "file_extension": ".py",
   "mimetype": "text/x-python",
   "name": "python",
   "nbconvert_exporter": "python",
   "pygments_lexer": "ipython3",
   "version": "3.5.2"
  }
 },
 "nbformat": 4,
 "nbformat_minor": 0
}
