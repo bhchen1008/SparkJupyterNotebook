{
 "cells": [
  {
   "cell_type": "code",
   "execution_count": 1,
   "metadata": {
    "collapsed": false
   },
   "outputs": [],
   "source": [
    "from pyspark import SparkContext, SparkConf\n",
    "conf = SparkConf().setAppName(\"DengueFeverNearBy\").setMaster(\"local[*]\")\n",
    "sc = SparkContext(conf=conf)"
   ]
  },
  {
   "cell_type": "code",
   "execution_count": 2,
   "metadata": {
    "collapsed": true
   },
   "outputs": [],
   "source": [
    "import math\n",
    "EARTH_RADIUS = 6378.137;\n",
    "LAT = 22.997\n",
    "LNG = 120.198\n",
    "\n",
    "def rad(d):\n",
    "    return d * math.pi/180.0\n",
    "\n",
    "def getDistance(lat1, lng1, lat2, lng2):\n",
    "    lat1 = float(lat1)\n",
    "    lng1 = float(lng1)\n",
    "    lat2 = float(lat2)\n",
    "    lng2 = float(lng2)\n",
    "    radLat1 = rad(lat1)\n",
    "    radLat2 = rad(lat2)\n",
    "    latD = radLat1 - radLat2    \n",
    "    lngD = rad(lng1) - rad(lng2)\n",
    "    s = 2 * math.asin(math.sqrt(math.pow(math.sin(latD/2),2) + math.cos(radLat1)*math.cos(radLat2)*math.pow(math.sin(lngD/2),2)))\n",
    "    s = s * EARTH_RADIUS;\n",
    "    s = round(s * 10000) / 10000\n",
    "    return s"
   ]
  },
  {
   "cell_type": "code",
   "execution_count": 3,
   "metadata": {
    "collapsed": false
   },
   "outputs": [
    {
     "data": {
      "text/plain": [
       "29.938"
      ]
     },
     "execution_count": 3,
     "metadata": {},
     "output_type": "execute_result"
    }
   ],
   "source": [
    "getDistance(22.35702,119.2028,22.59518,119.338)"
   ]
  },
  {
   "cell_type": "code",
   "execution_count": 4,
   "metadata": {
    "collapsed": false
   },
   "outputs": [],
   "source": [
    "data = sc.textFile(\"/data/DengueFever_until0930.csv\")"
   ]
  },
  {
   "cell_type": "code",
   "execution_count": 5,
   "metadata": {
    "collapsed": true
   },
   "outputs": [],
   "source": [
    "splitData = data.map(lambda line: line.split(\",\"))"
   ]
  },
  {
   "cell_type": "code",
   "execution_count": 6,
   "metadata": {
    "collapsed": false,
    "scrolled": false
   },
   "outputs": [
    {
     "data": {
      "text/plain": [
       "['1', '2015/1/6', '關廟區', '南花里', '明德街', '22.987', '120.234']"
      ]
     },
     "execution_count": 6,
     "metadata": {},
     "output_type": "execute_result"
    }
   ],
   "source": [
    "splitData.first()"
   ]
  },
  {
   "cell_type": "code",
   "execution_count": 7,
   "metadata": {
    "collapsed": false
   },
   "outputs": [],
   "source": [
    "queryLat = 22.997\n",
    "queryLng = 120.198\n",
    "km = 0.2\n",
    "nearby = splitData.filter(lambda x: getDistance(queryLat,queryLng,x[5],x[6]) < km)\n"
   ]
  },
  {
   "cell_type": "code",
   "execution_count": 8,
   "metadata": {
    "collapsed": false
   },
   "outputs": [
    {
     "data": {
      "text/plain": [
       "16294"
      ]
     },
     "execution_count": 8,
     "metadata": {},
     "output_type": "execute_result"
    }
   ],
   "source": [
    "data.count()"
   ]
  },
  {
   "cell_type": "code",
   "execution_count": 9,
   "metadata": {
    "collapsed": false
   },
   "outputs": [
    {
     "data": {
      "text/plain": [
       "126"
      ]
     },
     "execution_count": 9,
     "metadata": {},
     "output_type": "execute_result"
    }
   ],
   "source": [
    "nearby.count()"
   ]
  },
  {
   "cell_type": "code",
   "execution_count": 10,
   "metadata": {
    "collapsed": false
   },
   "outputs": [
    {
     "data": {
      "text/plain": [
       "[['3', '2015/5/21', '北區', '六甲里', '和緯路', '22.997', '120.198'],\n",
       " ['4', '2015/5/24', '北區', '六甲里', '和緯路', '22.997', '120.198'],\n",
       " ['184', '2015/7/30', '中西區', '普濟里', '海安路', '22.997', '120.197'],\n",
       " ['1386', '2015/8/21', '中西區', '水仙里', '仁愛街', '22.996', '120.198'],\n",
       " ['1698', '2015/8/23', '中西區', '民權里', '海安路', '22.998', '120.198'],\n",
       " ['1878', '2015/8/24', '中西區', '民主里', '府前路', '22.996', '120.198'],\n",
       " ['1922', '2015/8/24', '北區', '六甲里', '和緯路', '22.997', '120.198'],\n",
       " ['2240', '2015/8/26', '中西區', '民權里', '民權路', '22.996', '120.199'],\n",
       " ['2318', '2015/8/26', '中西區', '民權里', '民權路', '22.996', '120.199'],\n",
       " ['2556', '2015/8/27', '中西區', '民權里', '民權路 ', '22.996', '120.199']]"
      ]
     },
     "execution_count": 10,
     "metadata": {},
     "output_type": "execute_result"
    }
   ],
   "source": [
    "nearby.take(10)"
   ]
  }
 ],
 "metadata": {
  "kernelspec": {
   "display_name": "Python 3",
   "language": "python",
   "name": "python3"
  },
  "language_info": {
   "codemirror_mode": {
    "name": "ipython",
    "version": 3
   },
   "file_extension": ".py",
   "mimetype": "text/x-python",
   "name": "python",
   "nbconvert_exporter": "python",
   "pygments_lexer": "ipython3",
   "version": "3.5.2"
  }
 },
 "nbformat": 4,
 "nbformat_minor": 0
}
