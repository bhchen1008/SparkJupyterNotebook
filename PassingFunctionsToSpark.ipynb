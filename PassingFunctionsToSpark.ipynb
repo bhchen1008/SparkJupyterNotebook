{
 "cells": [
  {
   "cell_type": "code",
   "execution_count": 1,
   "metadata": {
    "collapsed": true
   },
   "outputs": [],
   "source": [
    "from pyspark import SparkContext, SparkConf\n",
    "conf = SparkConf().setAppName(\"PassFunction\").setMaster(\"local[*]\")\n",
    "sc = SparkContext(conf=conf)"
   ]
  },
  {
   "cell_type": "code",
   "execution_count": 2,
   "metadata": {
    "collapsed": false
   },
   "outputs": [
    {
     "data": {
      "text/plain": [
       "['# Apache Spark',\n",
       " '',\n",
       " 'Spark is a fast and general cluster computing system for Big Data. It provides',\n",
       " 'high-level APIs in Scala, Java, Python, and R, and an optimized engine that',\n",
       " 'supports general computation graphs for data analysis. It also supports a',\n",
       " 'rich set of higher-level tools including Spark SQL for SQL and DataFrames,',\n",
       " 'MLlib for machine learning, GraphX for graph processing,',\n",
       " 'and Spark Streaming for stream processing.',\n",
       " '',\n",
       " '<http://spark.apache.org/>']"
      ]
     },
     "execution_count": 2,
     "metadata": {},
     "output_type": "execute_result"
    }
   ],
   "source": [
    "readme = sc.textFile(\"/data/README.md\")\n",
    "readme.take(10)"
   ]
  },
  {
   "cell_type": "code",
   "execution_count": 3,
   "metadata": {
    "collapsed": false
   },
   "outputs": [
    {
     "data": {
      "text/plain": [
       "[3,\n",
       " 1,\n",
       " 14,\n",
       " 13,\n",
       " 11,\n",
       " 12,\n",
       " 8,\n",
       " 6,\n",
       " 1,\n",
       " 1,\n",
       " 1,\n",
       " 1,\n",
       " 3,\n",
       " 1,\n",
       " 10,\n",
       " 6,\n",
       " 3,\n",
       " 8,\n",
       " 1,\n",
       " 3,\n",
       " 1,\n",
       " 6,\n",
       " 8,\n",
       " 1,\n",
       " 8,\n",
       " 1,\n",
       " 13,\n",
       " 1,\n",
       " 22,\n",
       " 10,\n",
       " 2,\n",
       " 8,\n",
       " 2,\n",
       " 1,\n",
       " 4,\n",
       " 1,\n",
       " 12,\n",
       " 1,\n",
       " 5,\n",
       " 1,\n",
       " 8,\n",
       " 1,\n",
       " 8,\n",
       " 1,\n",
       " 4,\n",
       " 1,\n",
       " 11,\n",
       " 1,\n",
       " 5,\n",
       " 1,\n",
       " 10,\n",
       " 1,\n",
       " 6,\n",
       " 1,\n",
       " 3,\n",
       " 1,\n",
       " 11,\n",
       " 11,\n",
       " 1,\n",
       " 6,\n",
       " 1,\n",
       " 6,\n",
       " 1,\n",
       " 12,\n",
       " 12,\n",
       " 9,\n",
       " 13,\n",
       " 14,\n",
       " 3,\n",
       " 1,\n",
       " 7,\n",
       " 1,\n",
       " 13,\n",
       " 1,\n",
       " 3,\n",
       " 1,\n",
       " 10,\n",
       " 4,\n",
       " 1,\n",
       " 5,\n",
       " 1,\n",
       " 7,\n",
       " 8,\n",
       " 1,\n",
       " 6,\n",
       " 1,\n",
       " 13,\n",
       " 11,\n",
       " 13,\n",
       " 1,\n",
       " 7,\n",
       " 4,\n",
       " 12,\n",
       " 8,\n",
       " 1,\n",
       " 2,\n",
       " 1,\n",
       " 6,\n",
       " 12]"
      ]
     },
     "execution_count": 3,
     "metadata": {},
     "output_type": "execute_result"
    }
   ],
   "source": [
    "def myFunc(s):\n",
    "    words = s.split(\" \")\n",
    "    return len(words)\n",
    "\n",
    "wordCountInLine = readme.map(myFunc)\n",
    "wordCountInLine.collect()"
   ]
  }
 ],
 "metadata": {
  "kernelspec": {
   "display_name": "Python 3",
   "language": "python",
   "name": "python3"
  },
  "language_info": {
   "codemirror_mode": {
    "name": "ipython",
    "version": 3
   },
   "file_extension": ".py",
   "mimetype": "text/x-python",
   "name": "python",
   "nbconvert_exporter": "python",
   "pygments_lexer": "ipython3",
   "version": "3.5.2"
  }
 },
 "nbformat": 4,
 "nbformat_minor": 0
}
