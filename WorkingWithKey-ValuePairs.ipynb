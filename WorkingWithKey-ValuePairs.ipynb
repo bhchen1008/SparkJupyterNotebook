{
 "cells": [
  {
   "cell_type": "code",
   "execution_count": 1,
   "metadata": {
    "collapsed": false
   },
   "outputs": [],
   "source": [
    "from pyspark import SparkContext, SparkConf\n",
    "conf = SparkConf().setAppName(\"Key-ValuePairs\").setMaster(\"local[*]\")\n",
    "sc = SparkContext(conf=conf)"
   ]
  },
  {
   "cell_type": "code",
   "execution_count": 2,
   "metadata": {
    "collapsed": false
   },
   "outputs": [
    {
     "data": {
      "text/plain": [
       "['Hi, how are you?',\n",
       " 'Hello.',\n",
       " 'Hi, how are you?',\n",
       " 'Hi.',\n",
       " 'How are you?',\n",
       " 'Hi, how are you?',\n",
       " 'Hello.',\n",
       " 'Hi, how are you?',\n",
       " 'Hi.',\n",
       " 'How are you?',\n",
       " 'Hi, how are you?',\n",
       " 'Hello.',\n",
       " 'Hi, how are you?',\n",
       " 'Hi.',\n",
       " 'How are you?',\n",
       " 'Hi, how are you?',\n",
       " 'Hello.',\n",
       " 'Hi, how are you?',\n",
       " 'Hi.',\n",
       " 'How are you?',\n",
       " 'Hi, how are you?',\n",
       " 'Hello.',\n",
       " 'Hi, how are you?',\n",
       " 'Hi.',\n",
       " 'How are you?',\n",
       " 'Hi, how are you?',\n",
       " 'Hello.',\n",
       " 'Hi, how are you?',\n",
       " 'Hi.',\n",
       " 'How are you?',\n",
       " 'Hi, how are you?',\n",
       " 'Hello.',\n",
       " 'Hi, how are you?',\n",
       " 'Hi.',\n",
       " 'How are you?',\n",
       " 'Hi, how are you?',\n",
       " 'Hello.',\n",
       " 'Hi, how are you?',\n",
       " 'Hi.',\n",
       " 'How are you?']"
      ]
     },
     "execution_count": 2,
     "metadata": {},
     "output_type": "execute_result"
    }
   ],
   "source": [
    "lines = sc.textFile(\"/data/key-valueExample.txt\")\n",
    "lines.collect()"
   ]
  },
  {
   "cell_type": "code",
   "execution_count": 3,
   "metadata": {
    "collapsed": true
   },
   "outputs": [],
   "source": [
    "pairs = lines.map(lambda s: (s, 1))"
   ]
  },
  {
   "cell_type": "code",
   "execution_count": 4,
   "metadata": {
    "collapsed": false
   },
   "outputs": [
    {
     "data": {
      "text/plain": [
       "[('Hi, how are you?', 1),\n",
       " ('Hello.', 1),\n",
       " ('Hi, how are you?', 1),\n",
       " ('Hi.', 1),\n",
       " ('How are you?', 1),\n",
       " ('Hi, how are you?', 1),\n",
       " ('Hello.', 1),\n",
       " ('Hi, how are you?', 1),\n",
       " ('Hi.', 1),\n",
       " ('How are you?', 1),\n",
       " ('Hi, how are you?', 1),\n",
       " ('Hello.', 1),\n",
       " ('Hi, how are you?', 1),\n",
       " ('Hi.', 1),\n",
       " ('How are you?', 1),\n",
       " ('Hi, how are you?', 1),\n",
       " ('Hello.', 1),\n",
       " ('Hi, how are you?', 1),\n",
       " ('Hi.', 1),\n",
       " ('How are you?', 1),\n",
       " ('Hi, how are you?', 1),\n",
       " ('Hello.', 1),\n",
       " ('Hi, how are you?', 1),\n",
       " ('Hi.', 1),\n",
       " ('How are you?', 1),\n",
       " ('Hi, how are you?', 1),\n",
       " ('Hello.', 1),\n",
       " ('Hi, how are you?', 1),\n",
       " ('Hi.', 1),\n",
       " ('How are you?', 1),\n",
       " ('Hi, how are you?', 1),\n",
       " ('Hello.', 1),\n",
       " ('Hi, how are you?', 1),\n",
       " ('Hi.', 1),\n",
       " ('How are you?', 1),\n",
       " ('Hi, how are you?', 1),\n",
       " ('Hello.', 1),\n",
       " ('Hi, how are you?', 1),\n",
       " ('Hi.', 1),\n",
       " ('How are you?', 1)]"
      ]
     },
     "execution_count": 4,
     "metadata": {},
     "output_type": "execute_result"
    }
   ],
   "source": [
    "pairs.collect()"
   ]
  },
  {
   "cell_type": "code",
   "execution_count": 5,
   "metadata": {
    "collapsed": true
   },
   "outputs": [],
   "source": [
    "counts = pairs.reduceByKey(lambda a, b: a + b)"
   ]
  },
  {
   "cell_type": "code",
   "execution_count": 6,
   "metadata": {
    "collapsed": false
   },
   "outputs": [
    {
     "data": {
      "text/plain": [
       "[('Hi, how are you?', 16), ('Hello.', 8), ('How are you?', 8), ('Hi.', 8)]"
      ]
     },
     "execution_count": 6,
     "metadata": {},
     "output_type": "execute_result"
    }
   ],
   "source": [
    "counts.collect()"
   ]
  }
 ],
 "metadata": {
  "kernelspec": {
   "display_name": "Python 3",
   "language": "python",
   "name": "python3"
  },
  "language_info": {
   "codemirror_mode": {
    "name": "ipython",
    "version": 3
   },
   "file_extension": ".py",
   "mimetype": "text/x-python",
   "name": "python",
   "nbconvert_exporter": "python",
   "pygments_lexer": "ipython3",
   "version": "3.5.2"
  }
 },
 "nbformat": 4,
 "nbformat_minor": 0
}
